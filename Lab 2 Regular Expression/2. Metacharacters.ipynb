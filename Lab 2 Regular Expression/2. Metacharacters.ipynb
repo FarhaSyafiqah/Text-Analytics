{
 "cells": [
  {
   "cell_type": "code",
   "execution_count": 1,
   "id": "bb2e2a12-ddec-4696-8038-406e6809f3b9",
   "metadata": {},
   "outputs": [],
   "source": [
    "import re"
   ]
  },
  {
   "cell_type": "code",
   "execution_count": 4,
   "id": "0c5cda00-5bab-43e4-9552-085d8c465107",
   "metadata": {},
   "outputs": [
    {
     "name": "stdout",
     "output_type": "stream",
     "text": [
      "['I', ' ', 'a', 'm', ' ', 'l', 'e', 'a', 'r', 'n', 'i', 'n', 'g', ' ', 't', 'e', 'x', 't', ' ', 'a', 'n', 'a', 'l', 'y', 't', 'i', 'c', 's']\n"
     ]
    }
   ],
   "source": [
    "sentence1 = re.findall(r'.', 'I am learning text analytics')\n",
    "print(sentence1)\n",
    "\n",
    "# by using . it will find any characters including spaces"
   ]
  },
  {
   "cell_type": "code",
   "execution_count": 5,
   "id": "dd22f6cd-e2b6-470c-90ce-29afcdce866a",
   "metadata": {},
   "outputs": [
    {
     "name": "stdout",
     "output_type": "stream",
     "text": [
      "['I', 'a', 'm', 'l', 'e', 'a', 'r', 'n', 'i', 'n', 'g', 't', 'e', 'x', 't', 'a', 'n', 'a', 'l', 'y', 't', 'i', 'c', 's']\n"
     ]
    }
   ],
   "source": [
    "sentence2 = re.findall(r'\\w', 'I am learning text analytics')\n",
    "print(sentence2)\n",
    "\n",
    "#by using \\w it will find any characters excluding spaces"
   ]
  },
  {
   "cell_type": "code",
   "execution_count": 6,
   "id": "de40593a-17c2-49f3-9014-68381a0ad7bd",
   "metadata": {},
   "outputs": [
    {
     "name": "stdout",
     "output_type": "stream",
     "text": [
      "['I', '', 'am', '', 'learning', '', 'text', '', 'analytics', '']\n"
     ]
    }
   ],
   "source": [
    "sentence3 = re.findall(r'\\w*', 'I am learning text analytics')\n",
    "print(sentence3)\n",
    "\n",
    "#by using \\w* each word is selected including spaces"
   ]
  },
  {
   "cell_type": "code",
   "execution_count": 7,
   "id": "a5e625de-92da-4c89-86e3-fdb62b2b6921",
   "metadata": {},
   "outputs": [
    {
     "name": "stdout",
     "output_type": "stream",
     "text": [
      "['I', 'am', 'learning', 'text', 'analytics']\n"
     ]
    }
   ],
   "source": [
    "sentence4 = re.findall(r'\\w+', 'I am learning text analytics')\n",
    "print(sentence4)\n",
    "\n",
    "#by using \\w+ each word is selected excluding spaces"
   ]
  },
  {
   "cell_type": "code",
   "execution_count": 8,
   "id": "4192cb2e-eb44-4aa3-9f5e-0ddb88d75a74",
   "metadata": {},
   "outputs": [
    {
     "name": "stdout",
     "output_type": "stream",
     "text": [
      "['I']\n"
     ]
    }
   ],
   "source": [
    "sentence5 = re.findall(r'^\\w+', 'I am learning text analytics')\n",
    "print(sentence5)\n",
    "\n",
    "# by using ^\\w+ the first word is selected"
   ]
  },
  {
   "cell_type": "code",
   "execution_count": 9,
   "id": "948581ba-f3da-4487-8133-2afdc8bdb602",
   "metadata": {},
   "outputs": [
    {
     "name": "stdout",
     "output_type": "stream",
     "text": [
      "['analytics']\n"
     ]
    }
   ],
   "source": [
    "sentence6 = re.findall(r'\\w+$', 'I am learning text analytics')\n",
    "print(sentence6)\n",
    "\n",
    "# by using \\w+$ the last word is selected"
   ]
  },
  {
   "cell_type": "code",
   "execution_count": 10,
   "id": "d3e6315e-1cf3-45eb-a5b0-f73d507c0d9c",
   "metadata": {},
   "outputs": [
    {
     "name": "stdout",
     "output_type": "stream",
     "text": [
      "['am', 'le', 'ar', 'ni', 'ng', 'te', 'xt', 'an', 'al', 'yt', 'ic']\n"
     ]
    }
   ],
   "source": [
    "sentence7 = re.findall(r'\\w\\w', 'I am learning text analytics')\n",
    "print(sentence7)\n",
    "\n",
    "#by using \\w\\w, 2 consecutive characters are selected"
   ]
  },
  {
   "cell_type": "code",
   "execution_count": 11,
   "id": "a0da9c4e-3eca-41ff-9604-f373963d61b7",
   "metadata": {},
   "outputs": [
    {
     "name": "stdout",
     "output_type": "stream",
     "text": [
      "['am', 'le', 'te', 'an']\n"
     ]
    }
   ],
   "source": [
    "sentence8 = re.findall(r'\\b\\w\\w', 'I am learning text analytics')\n",
    "print(sentence8)"
   ]
  },
  {
   "cell_type": "code",
   "execution_count": 12,
   "id": "834e3791-2d17-48a4-a014-ba360389c229",
   "metadata": {},
   "outputs": [
    {
     "name": "stdout",
     "output_type": "stream",
     "text": [
      "['@text', '@analytics', '@textanalytics']\n"
     ]
    }
   ],
   "source": [
    "sentence9 = re.findall(r'@\\w+', 'user@text.com.my, user@analytics.gov.my, user@textanalytics.edu.mu')\n",
    "print(sentence9)"
   ]
  },
  {
   "cell_type": "code",
   "execution_count": 13,
   "id": "601460ba-59ea-443f-8af5-87d5ddfa534c",
   "metadata": {},
   "outputs": [
    {
     "name": "stdout",
     "output_type": "stream",
     "text": [
      "['@text.com', '@analytics.gov', '@textanalytics.edu']\n"
     ]
    }
   ],
   "source": [
    "sentence10 = re.findall(r'@\\w+.\\w+', 'user@text.com.my, user@analytics.gov.my, user@textanalytics.edu.mu')\n",
    "print(sentence10)"
   ]
  },
  {
   "cell_type": "code",
   "execution_count": 14,
   "id": "5720b0fb-cac6-460a-a9d5-769bf337788d",
   "metadata": {},
   "outputs": [
    {
     "name": "stdout",
     "output_type": "stream",
     "text": [
      "['@text.com.my', '@analytics.gov.my', '@textanalytics.edu.mu']\n"
     ]
    }
   ],
   "source": [
    "sentence11 = re.findall(r'@\\w+.\\w+.\\w+', 'user@text.com.my, user@analytics.gov.my, user@textanalytics.edu.mu')\n",
    "print(sentence11)"
   ]
  },
  {
   "cell_type": "code",
   "execution_count": 15,
   "id": "c001b809-f748-4628-a8bc-153856e26a03",
   "metadata": {},
   "outputs": [
    {
     "name": "stdout",
     "output_type": "stream",
     "text": [
      "['com.my', 'gov.my', 'edu.mu']\n"
     ]
    }
   ],
   "source": [
    "sentence12 = re.findall(r'@\\w+.(\\w+.\\w+)', 'user@text.com.my, user@analytics.gov.my, user@textanalytics.edu.mu')\n",
    "print(sentence12)"
   ]
  },
  {
   "cell_type": "code",
   "execution_count": 17,
   "id": "1d2e6474-2adc-416c-b783-307fbe5ae9cb",
   "metadata": {},
   "outputs": [
    {
     "name": "stdout",
     "output_type": "stream",
     "text": [
      "['15-05-20', '20-08-20']\n"
     ]
    }
   ],
   "source": [
    "sentence13 = re.findall (r'\\d{2}-\\d{2}-\\d{2}', 'Ahmad BIT(IS) 15-05-2001, Johnny BCS(SE) 20-08-2000')\n",
    "print (sentence13)"
   ]
  },
  {
   "cell_type": "code",
   "execution_count": 18,
   "id": "23f1e9fd-d0cd-4d41-a373-330ec3718104",
   "metadata": {},
   "outputs": [
    {
     "name": "stdout",
     "output_type": "stream",
     "text": [
      "['15-05-2001', '20-08-2000']\n"
     ]
    }
   ],
   "source": [
    "sentence14 = re.findall (r'\\d{2}-\\d{2}-\\d{4}', 'Ahmad BIT(IS) 15-05-2001, Johnny BCS(SE) 20-08-2000')\n",
    "print (sentence14) "
   ]
  },
  {
   "cell_type": "code",
   "execution_count": 19,
   "id": "48be6c3c-ee28-473f-950e-59f8740805b4",
   "metadata": {},
   "outputs": [
    {
     "name": "stdout",
     "output_type": "stream",
     "text": [
      "['2001', '2000']\n"
     ]
    }
   ],
   "source": [
    "sentence15 = re.findall (r'\\d{2}-\\d{2}-(\\d{4})', 'Ahmad BIT(IS) 15-05-2001, Johnny BCS(SE) 20-08-2000')\n",
    "print (sentence15) "
   ]
  },
  {
   "cell_type": "code",
   "execution_count": 20,
   "id": "366ed0c4-9c4c-4b22-ba93-ed31e0d36168",
   "metadata": {},
   "outputs": [
    {
     "name": "stdout",
     "output_type": "stream",
     "text": [
      "['ave', 'eight', 'ory', 'ooks', 'often', 'ead', 'em', 'in', 'afternoon']\n"
     ]
    }
   ],
   "source": [
    "sentence16 = re.findall (r'[aeiouAEIOU]\\w+', 'I have eight story books. I often read them in afternoon')\n",
    "print (sentence16)\n"
   ]
  },
  {
   "cell_type": "code",
   "execution_count": 21,
   "id": "14ebb689-1d39-4e89-b6f3-bfabd1ba3be3",
   "metadata": {},
   "outputs": [
    {
     "name": "stdout",
     "output_type": "stream",
     "text": [
      "['eight', 'often', 'in', 'afternoon']\n"
     ]
    }
   ],
   "source": [
    "sentence17 = re.findall (r'\\b[aeiouAEIOU]\\w+', 'I have eight story books. I often read them in afternoon')\n",
    "print (sentence17)"
   ]
  },
  {
   "cell_type": "code",
   "execution_count": 22,
   "id": "ae582b25-da23-4d8f-aa32-6114ddc3e1d8",
   "metadata": {},
   "outputs": [
    {
     "name": "stdout",
     "output_type": "stream",
     "text": [
      "['have', 'story', 'books', 'read', 'them']\n"
     ]
    }
   ],
   "source": [
    "sentence18 = re.findall (r'\\b[^aeiouAEIOU\\s]\\w+', 'I have eight story books. I often read them in afternoon')\n",
    "print (sentence18)"
   ]
  },
  {
   "cell_type": "code",
   "execution_count": 23,
   "id": "d4f9984f-91d7-4f97-9037-04aa9c23d930",
   "metadata": {},
   "outputs": [
    {
     "name": "stdout",
     "output_type": "stream",
     "text": [
      "['I have many story books', ' colouring books', ' I often read them in the afternoon.']\n"
     ]
    }
   ],
   "source": [
    "sentence19 = re.split (r'[;,]', 'I have many story books, colouring books; I often read them in the afternoon.')\n",
    "print (sentence19)"
   ]
  },
  {
   "cell_type": "code",
   "execution_count": 24,
   "id": "1103f047-64a7-4fb0-aeac-ed2e9f61a704",
   "metadata": {},
   "outputs": [
    {
     "name": "stdout",
     "output_type": "stream",
     "text": [
      "['I', 'have', 'many', 'story', 'books', '', 'colouring', 'books', '', 'I', 'often', 'read', 'them', 'in', 'the', 'afternoon.']\n"
     ]
    }
   ],
   "source": [
    "sentence20 = re.split (r'[;,\\s]', 'I have many story books, colouring books; I often read them in the afternoon.')\n",
    "print (sentence20)"
   ]
  },
  {
   "cell_type": "code",
   "execution_count": 25,
   "id": "51716da4-a43d-4724-ac96-22f8223a297f",
   "metadata": {},
   "outputs": [
    {
     "name": "stdout",
     "output_type": "stream",
     "text": [
      "I have many story books. colouring books. I often read them in the afternoon.\n"
     ]
    }
   ],
   "source": [
    "sentence21 = re.sub (r'[;,]', '.', 'I have many story books, colouring books; I often read them in the afternoon.')\n",
    "print (sentence21)"
   ]
  }
 ],
 "metadata": {
  "kernelspec": {
   "display_name": "Python 3 (ipykernel)",
   "language": "python",
   "name": "python3"
  },
  "language_info": {
   "codemirror_mode": {
    "name": "ipython",
    "version": 3
   },
   "file_extension": ".py",
   "mimetype": "text/x-python",
   "name": "python",
   "nbconvert_exporter": "python",
   "pygments_lexer": "ipython3",
   "version": "3.12.0"
  }
 },
 "nbformat": 4,
 "nbformat_minor": 5
}

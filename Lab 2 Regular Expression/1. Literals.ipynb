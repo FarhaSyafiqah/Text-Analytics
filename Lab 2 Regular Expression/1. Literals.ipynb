{
 "cells": [
  {
   "cell_type": "code",
   "execution_count": 9,
   "id": "4d7a2488-9ab7-4132-9834-f6b236e136d6",
   "metadata": {},
   "outputs": [],
   "source": [
    "import re"
   ]
  },
  {
   "cell_type": "code",
   "execution_count": 10,
   "id": "049af41c-b7c4-4c3b-a50f-711c531bff7b",
   "metadata": {},
   "outputs": [],
   "source": [
    "# re.match to find a match letter at the beginning of the string"
   ]
  },
  {
   "cell_type": "code",
   "execution_count": 11,
   "id": "783b7a39-96e5-4d17-9ba6-2190f4c0f67a",
   "metadata": {},
   "outputs": [
    {
     "name": "stdout",
     "output_type": "stream",
     "text": [
      "<re.Match object; span=(0, 1), match='I'>\n"
     ]
    }
   ],
   "source": [
    "sentence1 = re.match (r'I', 'I am learning text analytics')\n",
    "print(sentence1)"
   ]
  },
  {
   "cell_type": "code",
   "execution_count": 12,
   "id": "12f1d9cd-6ae8-4f70-ab64-58d7078555b5",
   "metadata": {},
   "outputs": [
    {
     "name": "stdout",
     "output_type": "stream",
     "text": [
      "None\n"
     ]
    }
   ],
   "source": [
    "sentence2 = re.match(r'v', 'I am learning text analytics')\n",
    "print(sentence2)"
   ]
  },
  {
   "cell_type": "code",
   "execution_count": 13,
   "id": "61e239e1-b6a2-4221-94b9-4dd84df141c8",
   "metadata": {},
   "outputs": [
    {
     "name": "stdout",
     "output_type": "stream",
     "text": [
      "None\n"
     ]
    }
   ],
   "source": [
    "sentence3 = re.match(r'am', 'I am learning text analytics')\n",
    "print(sentence3)"
   ]
  },
  {
   "cell_type": "code",
   "execution_count": 15,
   "id": "2981e80c-2e95-4d97-90f4-697ecc4cde9c",
   "metadata": {},
   "outputs": [],
   "source": [
    "# re.search() to find the first occurence of a pattern in a string, \n",
    "# doesnt matter the location"
   ]
  },
  {
   "cell_type": "code",
   "execution_count": 16,
   "id": "ce57ce9e-8491-42d6-9c7a-35aea78ca4a3",
   "metadata": {},
   "outputs": [
    {
     "name": "stdout",
     "output_type": "stream",
     "text": [
      "<re.Match object; span=(2, 4), match='am'>\n"
     ]
    }
   ],
   "source": [
    "sentence4 = re.search(r'am', 'I am learning text analytics')\n",
    "print(sentence4)"
   ]
  },
  {
   "cell_type": "code",
   "execution_count": 17,
   "id": "c2a1aacb-f73d-4070-818b-3b52df068e9b",
   "metadata": {},
   "outputs": [
    {
     "name": "stdout",
     "output_type": "stream",
     "text": [
      "<re.Match object; span=(2, 4), match='am'>\n"
     ]
    }
   ],
   "source": [
    "sentence5 = re.search(r'am', 'I am learning text analytics and am enjoying it')\n",
    "print(sentence5)"
   ]
  },
  {
   "cell_type": "code",
   "execution_count": 18,
   "id": "27668e5c-b3e8-4d51-92e5-30f228d563e6",
   "metadata": {},
   "outputs": [],
   "source": [
    "# re.findall() use to find all of the occurence of a pattern in a string"
   ]
  },
  {
   "cell_type": "code",
   "execution_count": 19,
   "id": "80df7fd8-2c73-4ee3-bb9b-7ef42eef221d",
   "metadata": {},
   "outputs": [
    {
     "name": "stdout",
     "output_type": "stream",
     "text": [
      "['am', 'am']\n"
     ]
    }
   ],
   "source": [
    "sentence6 = re.findall(r'am', 'I am learning text analytics and am enjoying it')\n",
    "print(sentence6)"
   ]
  },
  {
   "cell_type": "code",
   "execution_count": 20,
   "id": "cfc10f62-dac5-4d47-b51d-59f8df07c500",
   "metadata": {},
   "outputs": [],
   "source": [
    "# re.split use to split a string by the occurence of a given pattern"
   ]
  },
  {
   "cell_type": "code",
   "execution_count": 21,
   "id": "c24a7e49-4420-4c5e-8de8-b0460b9dfadb",
   "metadata": {},
   "outputs": [
    {
     "name": "stdout",
     "output_type": "stream",
     "text": [
      "['I am learning text analytics ', ' am enjoying it']\n"
     ]
    }
   ],
   "source": [
    "sentence7 = re.split(r'and', 'I am learning text analytics and am enjoying it')\n",
    "print(sentence7)"
   ]
  },
  {
   "cell_type": "code",
   "execution_count": 22,
   "id": "9de422be-2659-4867-87b1-04308d54658d",
   "metadata": {},
   "outputs": [
    {
     "name": "stdout",
     "output_type": "stream",
     "text": [
      "['I ', ' learning text analytics and ', ' enjoying it']\n"
     ]
    }
   ],
   "source": [
    "sentence8 = re.split(r'am', 'I am learning text analytics and am enjoying it')\n",
    "print(sentence8)"
   ]
  },
  {
   "cell_type": "code",
   "execution_count": 23,
   "id": "6fb60b90-6d36-4db0-b45c-b097d6a58fe3",
   "metadata": {},
   "outputs": [
    {
     "name": "stdout",
     "output_type": "stream",
     "text": [
      "['I ', ' learning text analytics and am enjoying it']\n"
     ]
    }
   ],
   "source": [
    "sentence9 = re.split(r'am', 'I am learning text analytics and am enjoying it', maxsplit=1)\n",
    "print(sentence9)"
   ]
  },
  {
   "cell_type": "code",
   "execution_count": 24,
   "id": "324834cb-c759-4be5-8e8c-d0209b53cf33",
   "metadata": {},
   "outputs": [
    {
     "name": "stdout",
     "output_type": "stream",
     "text": [
      "['I ', ' learning text analytics and ', ' enjoying it']\n"
     ]
    }
   ],
   "source": [
    "sentence9 = re.split(r'am', 'I am learning text analytics and am enjoying it', maxsplit=2)\n",
    "print(sentence9)"
   ]
  },
  {
   "cell_type": "code",
   "execution_count": 25,
   "id": "60d4d154-25d8-40d6-bded-14f21be7be80",
   "metadata": {},
   "outputs": [
    {
     "name": "stdout",
     "output_type": "stream",
     "text": [
      "['I ', ' learning text analytics and ', ' enjoying it and I ', ' going to ace it']\n"
     ]
    }
   ],
   "source": [
    "sentence10 = re.split(r'am', 'I am learning text analytics and am enjoying it and I am going to ace it', maxsplit=3)\n",
    "print(sentence10)"
   ]
  },
  {
   "cell_type": "code",
   "execution_count": 26,
   "id": "5678fa81-29eb-4a2a-83a3-8afdc51d61e7",
   "metadata": {},
   "outputs": [],
   "source": [
    "# re.sub use to find the occurence of a given pattern in a string and replace with a new value"
   ]
  },
  {
   "cell_type": "code",
   "execution_count": 29,
   "id": "1e406685-8f0f-4e9a-af5e-e79b72d49924",
   "metadata": {},
   "outputs": [
    {
     "name": "stdout",
     "output_type": "stream",
     "text": [
      "we like text analytics and we enjoy learning it\n"
     ]
    }
   ],
   "source": [
    "sentence11 = re.sub(r'I', 'we', 'I like text analytics and I enjoy learning it')\n",
    "print(sentence11)"
   ]
  },
  {
   "cell_type": "code",
   "execution_count": null,
   "id": "a700dd08-374c-483c-8989-836b8917ea4e",
   "metadata": {},
   "outputs": [],
   "source": []
  },
  {
   "cell_type": "code",
   "execution_count": null,
   "id": "fce6e994-a56b-4598-a5f6-7f518d1a6a1a",
   "metadata": {},
   "outputs": [],
   "source": []
  }
 ],
 "metadata": {
  "kernelspec": {
   "display_name": "Python 3 (ipykernel)",
   "language": "python",
   "name": "python3"
  },
  "language_info": {
   "codemirror_mode": {
    "name": "ipython",
    "version": 3
   },
   "file_extension": ".py",
   "mimetype": "text/x-python",
   "name": "python",
   "nbconvert_exporter": "python",
   "pygments_lexer": "ipython3",
   "version": "3.12.0"
  }
 },
 "nbformat": 4,
 "nbformat_minor": 5
}

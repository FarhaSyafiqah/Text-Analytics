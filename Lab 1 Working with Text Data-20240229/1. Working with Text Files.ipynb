{
 "cells": [
  {
   "cell_type": "code",
   "execution_count": 9,
   "id": "b88362a4-6ae7-4721-b4d4-c6ebe0c13a48",
   "metadata": {},
   "outputs": [],
   "source": [
    "# Open the text file created earlier:\n",
    "my_file = open('test.txt')"
   ]
  },
  {
   "cell_type": "code",
   "execution_count": 10,
   "id": "48354fb4-4183-4dad-994e-10ea39b3a64b",
   "metadata": {},
   "outputs": [
    {
     "data": {
      "text/plain": [
       "'Hello, this is a quick test file.\\nThis is the second line of the file.'"
      ]
     },
     "execution_count": 10,
     "metadata": {},
     "output_type": "execute_result"
    }
   ],
   "source": [
    "# Read the file:\n",
    "my_file.read()"
   ]
  },
  {
   "cell_type": "code",
   "execution_count": 11,
   "id": "c7a2e3de-51c6-42c7-9637-342e704598e9",
   "metadata": {},
   "outputs": [
    {
     "data": {
      "text/plain": [
       "''"
      ]
     },
     "execution_count": 11,
     "metadata": {},
     "output_type": "execute_result"
    }
   ],
   "source": [
    "# What happen if we try to read again?\n",
    "my_file.read()"
   ]
  },
  {
   "cell_type": "code",
   "execution_count": 12,
   "id": "2a5435ac-002c-4714-9d47-35c839aec88c",
   "metadata": {},
   "outputs": [
    {
     "data": {
      "text/plain": [
       "0"
      ]
     },
     "execution_count": 12,
     "metadata": {},
     "output_type": "execute_result"
    }
   ],
   "source": [
    "# Hence, reset the cursor\n",
    "my_file.seek(0)"
   ]
  },
  {
   "cell_type": "code",
   "execution_count": 13,
   "id": "97827035-421e-4593-be0c-62e352f09cea",
   "metadata": {},
   "outputs": [
    {
     "data": {
      "text/plain": [
       "'Hello, this is a quick test file.\\nThis is the second line of the file.'"
      ]
     },
     "execution_count": 13,
     "metadata": {},
     "output_type": "execute_result"
    }
   ],
   "source": [
    "# Try to read again\n",
    "my_file.read()"
   ]
  },
  {
   "cell_type": "code",
   "execution_count": 14,
   "id": "cd80d647-2aa6-4137-8794-fe8aa87c9a1a",
   "metadata": {},
   "outputs": [
    {
     "data": {
      "text/plain": [
       "['Hello, this is a quick test file.\\n', 'This is the second line of the file.']"
      ]
     },
     "execution_count": 14,
     "metadata": {},
     "output_type": "execute_result"
    }
   ],
   "source": [
    "# You can read a file line using the readlines method \n",
    "# (Note: Use caution with large files, since everything will be held in memory):\n",
    "my_file.seek(0)\n",
    "my_file.readlines()"
   ]
  },
  {
   "cell_type": "code",
   "execution_count": 15,
   "id": "23b696f0-7c30-4e23-a722-e23906fbdc35",
   "metadata": {},
   "outputs": [],
   "source": [
    "# When you have finished using a file, it is always good practice to close it:\n",
    "my_file.close()"
   ]
  },
  {
   "cell_type": "code",
   "execution_count": 16,
   "id": "c7bcba68-6c5a-4b5a-8b85-59ba84a0cedd",
   "metadata": {},
   "outputs": [],
   "source": [
    "# Opening a file with 'w' or 'w+', it will delete the original file\n",
    "my_file = open('test.txt', 'w+')"
   ]
  },
  {
   "cell_type": "code",
   "execution_count": 17,
   "id": "ac1d28f8-7556-483d-931d-f961c8657028",
   "metadata": {},
   "outputs": [
    {
     "data": {
      "text/plain": [
       "24"
      ]
     },
     "execution_count": 17,
     "metadata": {},
     "output_type": "execute_result"
    }
   ],
   "source": [
    "# Try to write it again\n",
    "my_file.write('This is a new first line')"
   ]
  },
  {
   "cell_type": "code",
   "execution_count": 18,
   "id": "237a9cf2-358b-43a3-abe2-b54840e906a1",
   "metadata": {},
   "outputs": [
    {
     "data": {
      "text/plain": [
       "'This is a new first line'"
      ]
     },
     "execution_count": 18,
     "metadata": {},
     "output_type": "execute_result"
    }
   ],
   "source": [
    "# Read the file\n",
    "my_file.seek(0)\n",
    "my_file.read()"
   ]
  },
  {
   "cell_type": "code",
   "execution_count": 19,
   "id": "9c8f29d4-16c7-4764-823c-e4b5b22f452c",
   "metadata": {},
   "outputs": [],
   "source": [
    "# try check the test.txt file, it changed, right?"
   ]
  },
  {
   "cell_type": "code",
   "execution_count": 20,
   "id": "03ec76f6-4c4c-4a54-b0ae-00f7823fa0e0",
   "metadata": {},
   "outputs": [],
   "source": [
    "# Now, close the file\n",
    "my_file.close()"
   ]
  },
  {
   "cell_type": "code",
   "execution_count": 21,
   "id": "7d811d48-ef78-4b12-9ab9-a36de2501df4",
   "metadata": {},
   "outputs": [
    {
     "data": {
      "text/plain": [
       "23"
      ]
     },
     "execution_count": 21,
     "metadata": {},
     "output_type": "execute_result"
    }
   ],
   "source": [
    "# Use 'a+' to puts the pointer at the end, so anything written will be combined\n",
    "my_file = open('test.txt','a+') \n",
    "my_file.write('\\nThis line is being appended to test.txt') \n",
    "my_file.write('\\nAnd another line here.')"
   ]
  },
  {
   "cell_type": "code",
   "execution_count": 22,
   "id": "e5a12d3f-c65d-4002-a549-28774cb03f46",
   "metadata": {},
   "outputs": [
    {
     "name": "stdout",
     "output_type": "stream",
     "text": [
      "This is a new first line\n",
      "This line is being appended to test.txt\n",
      "And another line here.\n"
     ]
    }
   ],
   "source": [
    "# Display content\n",
    "my_file.seek(0) \n",
    "print(my_file.read())"
   ]
  },
  {
   "cell_type": "code",
   "execution_count": 23,
   "id": "adc6aa22-714f-49ce-aeb0-945e019391fb",
   "metadata": {},
   "outputs": [],
   "source": [
    "my_file.close()"
   ]
  },
  {
   "cell_type": "code",
   "execution_count": 24,
   "id": "86154d20-7a47-4701-a4f5-44a993c8782d",
   "metadata": {},
   "outputs": [
    {
     "name": "stdout",
     "output_type": "stream",
     "text": [
      "This is a new first line\n",
      "This line is being appended to test.txt\n",
      "And another line here."
     ]
    }
   ],
   "source": [
    "with open('test.txt','r') as txt: \n",
    "    for line in txt: \n",
    "        print(line, end='')"
   ]
  }
 ],
 "metadata": {
  "kernelspec": {
   "display_name": "Python 3 (ipykernel)",
   "language": "python",
   "name": "python3"
  },
  "language_info": {
   "codemirror_mode": {
    "name": "ipython",
    "version": 3
   },
   "file_extension": ".py",
   "mimetype": "text/x-python",
   "name": "python",
   "nbconvert_exporter": "python",
   "pygments_lexer": "ipython3",
   "version": "3.12.0"
  }
 },
 "nbformat": 4,
 "nbformat_minor": 5
}

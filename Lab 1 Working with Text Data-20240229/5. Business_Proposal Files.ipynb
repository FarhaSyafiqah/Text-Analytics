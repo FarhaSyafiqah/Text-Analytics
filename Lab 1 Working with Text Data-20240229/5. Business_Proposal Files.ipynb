{
 "cells": [
  {
   "cell_type": "code",
   "execution_count": 1,
   "id": "6dc2c720-6c3b-47c5-80a8-28eb67063dc2",
   "metadata": {},
   "outputs": [],
   "source": [
    "import PyPDF2"
   ]
  },
  {
   "cell_type": "code",
   "execution_count": 2,
   "id": "df55d5c7-438f-481a-b3fe-8877cc8d3b9e",
   "metadata": {},
   "outputs": [],
   "source": [
    "bp_pdf = open('Business_Proposal.pdf','rb')"
   ]
  },
  {
   "cell_type": "code",
   "execution_count": 3,
   "id": "55e9e0fa-05bf-48f6-aca2-a71e03e7a1b5",
   "metadata": {},
   "outputs": [],
   "source": [
    "bp_reader = PyPDF2.PdfReader(bp_pdf)"
   ]
  },
  {
   "cell_type": "code",
   "execution_count": 4,
   "id": "b3825435-db66-47dc-806d-0535e1060a68",
   "metadata": {},
   "outputs": [
    {
     "data": {
      "text/plain": [
       "2"
      ]
     },
     "execution_count": 4,
     "metadata": {},
     "output_type": "execute_result"
    }
   ],
   "source": [
    "len(bp_reader.pages)"
   ]
  },
  {
   "cell_type": "code",
   "execution_count": 6,
   "id": "35f2dea7-1bdb-432d-b75f-d99081d240b2",
   "metadata": {},
   "outputs": [
    {
     "data": {
      "text/plain": [
       "'AUTHORS:  \\nAmy Baker, Finance Chair, x345, abaker@ourcompany.com  \\nChris Donaldson, Accounting Dir., x621, cdonaldson@ourcompany.com  \\nErin Freeman, Sr. VP, x879, efreeman@ourcompany.com  '"
      ]
     },
     "execution_count": 6,
     "metadata": {},
     "output_type": "execute_result"
    }
   ],
   "source": [
    "page_two = bp_reader.pages[1]\n",
    "page_two_text = page_two.extract_text()\n",
    "page_two_text"
   ]
  },
  {
   "cell_type": "code",
   "execution_count": 19,
   "id": "58701133-af30-47e5-9e2d-5b34e30293ed",
   "metadata": {},
   "outputs": [
    {
     "name": "stdout",
     "output_type": "stream",
     "text": [
      "EXTRACTING TEXT FROM BUSINESS PROPOSAL:\n",
      "\n",
      "Page 1 :\n",
      "\n",
      "Business Proposal  \n",
      "The Revolution is Coming  \n",
      "Leverage agile frameworks to provide a robust synopsis for high level  \n",
      "overviews. Iterative approaches to corporate strategy foster collaborative  \n",
      "thinking to further the overall value proposition. Organically grow the  \n",
      "holistic world view of disruptive innovation via workplace diversity and  \n",
      "empowerment.  \n",
      "Bring to the table win -win survival strategies to ensure proactive  \n",
      "domination. At the end of the day, going forward, a new normal that has  \n",
      "evolved from generation X is on the runway heading towards a streamlined  \n",
      "cloud solution. User generated content in real -time will have multi ple \n",
      "touchpoints for offshoring.  \n",
      "Capitalize on low hanging fruit to identify a ballpark value added activity to  \n",
      "beta test. Override the digital divide with additional clickthroughs from  \n",
      "DevOps. Nanotechnology immersion along the information highway will  \n",
      "close the loop on focusing solely on the bottom line.  \n",
      "Podcasting operational change management inside of workflows to  \n",
      "establish a framework. Taking seamless key performance indicators offline  \n",
      "to maximise the long tail. Keeping your eye on the ball while perfo rming a  \n",
      "deep dive on the start -up mentality to derive convergence on crossplatform  \n",
      "integration.  \n",
      "Collaboratively administrate empowered markets via plug -and-play \n",
      "networks. Dynamically procrastinate B2C users after installed base  \n",
      "benefits. Dramatically visua lize customer directed convergence without  \n",
      "revolutionary ROI.  \n",
      "Efficiently unleash cross -media information without cross -media value.  \n",
      "Quickly maximize timely deliverables for real -time schemas. Dramatically  \n",
      "maintain clicks -and-mortar solutions without funct ional solutio ns. \n",
      "  \n",
      "************\n",
      "\n",
      "Page 2 :\n",
      "\n",
      "AUTHORS:  \n",
      "Amy Baker, Finance Chair, x345, abaker@ourcompany.com  \n",
      "Chris Donaldson, Accounting Dir., x621, cdonaldson@ourcompany.com  \n",
      "Erin Freeman, Sr. VP, x879, efreeman@ourcompany.com  \n",
      "************\n",
      "\n"
     ]
    }
   ],
   "source": [
    "with open('Business_Proposal.pdf','rb') as bp_pdf:\n",
    "    bp_reader = PyPDF2.PdfReader(bp_pdf)\n",
    "\n",
    "    total_pages = len(bp_reader.pages)\n",
    "\n",
    "    print(f\"EXTRACTING TEXT FROM BUSINESS PROPOSAL:\\n\")\n",
    "    \n",
    "    for page_number in range(total_pages):\n",
    "        page = bp_reader.pages[page_number]\n",
    "        page_text = page.extract_text()\n",
    "\n",
    "        print(f\"Page {page_number + 1} :\\n\\n{page_text}\\n************\\n\")"
   ]
  },
  {
   "cell_type": "code",
   "execution_count": null,
   "id": "35af6699-8429-4643-b2d2-d1b04423409c",
   "metadata": {},
   "outputs": [],
   "source": []
  }
 ],
 "metadata": {
  "kernelspec": {
   "display_name": "Python 3 (ipykernel)",
   "language": "python",
   "name": "python3"
  },
  "language_info": {
   "codemirror_mode": {
    "name": "ipython",
    "version": 3
   },
   "file_extension": ".py",
   "mimetype": "text/x-python",
   "name": "python",
   "nbconvert_exporter": "python",
   "pygments_lexer": "ipython3",
   "version": "3.12.0"
  }
 },
 "nbformat": 4,
 "nbformat_minor": 5
}
